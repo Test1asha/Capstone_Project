{
 "cells": [
  {
   "cell_type": "code",
   "execution_count": 1,
   "id": "e2c60dfb",
   "metadata": {},
   "outputs": [
    {
     "name": "stdout",
     "output_type": "stream",
     "text": [
      "Welcome to\n",
      "      ____              __\n",
      "     / __/__  ___ _____/ /__\n",
      "    _\\ \\/ _ \\/ _ `/ __/  '_/\n",
      "   /__ / .__/\\_,_/_/ /_/\\_\\   version 3.3.0\n",
      "      /_/\n",
      "\n",
      "Using Python version 3.9.12 (main, Apr  4 2022 05:22:27)\n",
      "Spark context Web UI available at http://LAPTOP-PSIMHJKQ:4043\n",
      "Spark context available as 'sc' (master = local[*], app id = local-1661364554350).\n",
      "SparkSession available as 'spark'.\n"
     ]
    }
   ],
   "source": [
    "import os\n",
    "import sys\n",
    "from pyspark import SparkContext\n",
    "from pyspark.sql import SparkSession\n",
    "from pyspark.sql.types import StructType,StructField,StringType,IntegerType,DateType,DecimalType,DoubleType,BooleanType,TimestampType\n",
    "from pyspark.shell import spark\n",
    "\n",
    "from pyspark.sql.functions import initcap, lower,col,year,month,dayofmonth,expr\n",
    "from pyspark.sql import functions as sf\n",
    "from pyspark.sql.functions import regexp_replace\n",
    "import datetime\n",
    "import pandas as pd\n",
    "import numpy as np\n",
    "import re\n",
    " \n",
    "\n",
    "#import org.apache.spark.sql.functions.format_number\n",
    "\n",
    "\n",
    "\n",
    "\n",
    "os.environ['PYSPARK_PYTHON'] = sys.executable\n",
    "os.environ['PYSPARK_DRIVER_PYTHON'] = sys.executable\n",
    "spark_app = SparkSession.builder.config(\"spark.driver.host\", \"localhost\").getOrCreate()\n",
    "\n",
    "\n",
    "\n",
    "\n",
    "\n"
   ]
  },
  {
   "cell_type": "markdown",
   "id": "f9c41727",
   "metadata": {},
   "source": [
    "# Functional Requirement 1.1\n",
    "1. Functional Requirements - Load Credit Card Database - cdw_sapp_branch (SQL)\n"
   ]
  },
  {
   "cell_type": "code",
   "execution_count": 3,
   "id": "b241ff7c",
   "metadata": {},
   "outputs": [
    {
     "name": "stdout",
     "output_type": "stream",
     "text": [
      "+-----------------+-----------+------------+------------+------------+-----------------+----------+--------------------+\n",
      "|      BRANCH_CITY|BRANCH_CODE| BRANCH_NAME|BRANCH_PHONE|BRANCH_STATE|    BRANCH_STREET|BRANCH_ZIP|        LAST_UPDATED|\n",
      "+-----------------+-----------+------------+------------+------------+-----------------+----------+--------------------+\n",
      "|        Lakeville|          1|Example Bank|  1234565276|          MN|     Bridle Court|     55044|2018-04-18T16:51:...|\n",
      "|          Huntley|          2|Example Bank|  1234618993|          IL|Washington Street|     60142|2018-04-18T16:51:...|\n",
      "|SouthRichmondHill|          3|Example Bank|  1234985926|          NY|    Warren Street|     11419|2018-04-18T16:51:...|\n",
      "|       Middleburg|          4|Example Bank|  1234663064|          FL| Cleveland Street|     32068|2018-04-18T16:51:...|\n",
      "|    KingOfPrussia|          5|Example Bank|  1234849701|          PA|      14th Street|     19406|2018-04-18T16:51:...|\n",
      "+-----------------+-----------+------------+------------+------------+-----------------+----------+--------------------+\n",
      "only showing top 5 rows\n",
      "\n"
     ]
    }
   ],
   "source": [
    "#LOAD TABLE CDW_SAPP_D_BRANCH\n",
    "df_branch = spark.read.format('org.apache.spark.sql.json').load('C:/Users/asha_/dev/capstoneproj/Data/cdw_sapp_branch.json')\n",
    "df_branch.show(5)"
   ]
  },
  {
   "cell_type": "code",
   "execution_count": 4,
   "id": "74d22902",
   "metadata": {},
   "outputs": [
    {
     "name": "stdout",
     "output_type": "stream",
     "text": [
      "root\n",
      " |-- BRANCH_CITY: string (nullable = true)\n",
      " |-- BRANCH_CODE: integer (nullable = true)\n",
      " |-- BRANCH_NAME: string (nullable = true)\n",
      " |-- BRANCH_PHONE: string (nullable = true)\n",
      " |-- BRANCH_STATE: string (nullable = true)\n",
      " |-- BRANCH_STREET: string (nullable = true)\n",
      " |-- BRANCH_ZIP: integer (nullable = true)\n",
      " |-- LAST_UPDATED: timestamp (nullable = true)\n",
      "\n"
     ]
    }
   ],
   "source": [
    "#Change datatype of branch columns\n",
    "df_branch= df_branch.withColumn(\"BRANCH_CODE\",col(\"BRANCH_CODE\").cast(\"int\"))\n",
    "df_branch = df_branch.withColumn(\"BRANCH_ZIP\",col(\"BRANCH_ZIP\").cast(\"int\"))\n",
    "df_branch= df_branch.withColumn(\"LAST_UPDATED\",col(\"LAST_UPDATED\").cast(\"timestamp\"))\n",
    "\n",
    "\n",
    "df_branch.printSchema()"
   ]
  },
  {
   "cell_type": "code",
   "execution_count": 6,
   "id": "745b410b",
   "metadata": {},
   "outputs": [
    {
     "name": "stdout",
     "output_type": "stream",
     "text": [
      "+-----------------+-----------+------------+------------+------------+-------------------+----------+-------------------+\n",
      "|      BRANCH_CITY|BRANCH_CODE| BRANCH_NAME|BRANCH_PHONE|BRANCH_STATE|      BRANCH_STREET|BRANCH_ZIP|       LAST_UPDATED|\n",
      "+-----------------+-----------+------------+------------+------------+-------------------+----------+-------------------+\n",
      "|        Lakeville|          1|Example Bank|  1234565276|          MN|       Bridle Court|     55044|2018-04-18 15:51:47|\n",
      "|          Huntley|          2|Example Bank|  1234618993|          IL|  Washington Street|     60142|2018-04-18 15:51:47|\n",
      "|SouthRichmondHill|          3|Example Bank|  1234985926|          NY|      Warren Street|     11419|2018-04-18 15:51:47|\n",
      "|       Middleburg|          4|Example Bank|  1234663064|          FL|   Cleveland Street|     32068|2018-04-18 15:51:47|\n",
      "|    KingOfPrussia|          5|Example Bank|  1234849701|          PA|        14th Street|     19406|2018-04-18 15:51:47|\n",
      "|         Paterson|          7|Example Bank|  1234144890|          NJ|   Jefferson Street|      7501|2018-04-18 15:51:47|\n",
      "|        Pittsford|          8|Example Bank|  1234678272|          NY|           B Street|     14534|2018-04-18 15:51:47|\n",
      "|     Wethersfield|          9|Example Bank|  1234675219|          CT|    Jefferson Court|      6109|2018-04-18 15:51:47|\n",
      "|     NorthOlmsted|         10|Example Bank|  1234145047|          OH|     Cambridge Road|     44070|2018-04-18 15:51:47|\n",
      "|     Hillsborough|         11|Example Bank|  1234366354|          NJ|    3rd Street West|      8844|2018-04-18 15:51:47|\n",
      "|   MadisonHeights|         12|Example Bank|  1234867175|          MI|          Mill Road|     48071|2018-04-18 15:51:47|\n",
      "|           Oviedo|         14|Example Bank|  1234938460|          FL|  Washington Street|     32765|2018-04-18 15:51:47|\n",
      "|    Mechanicsburg|         15|Example Bank|  1234462043|          PA|    Chestnut Street|     17050|2018-04-18 15:51:47|\n",
      "|        Plainview|         16|Example Bank|  1234857525|          NY|       Monroe Drive|     11803|2018-04-18 15:51:47|\n",
      "|          Paducah|         17|Example Bank|  1234546360|          KY|    Railroad Street|     42001|2018-04-18 15:51:47|\n",
      "|     Harleysville|         18|Example Bank|  1234824455|          PA|Church Street South|     19438|2018-04-18 15:51:47|\n",
      "|     SilverSpring|         19|Example Bank|  1234484380|          MD|        King Street|     20901|2018-04-18 15:51:47|\n",
      "|       Burnsville|         20|Example Bank|  1234840138|          MN|   Canterbury Drive|     55337|2018-04-18 15:51:47|\n",
      "|           Tacoma|         21|Example Bank|  1234362433|          WA|         2nd Avenue|     98444|2018-04-18 15:51:47|\n",
      "|         Carlisle|         22|Example Bank|  1234922492|          PA| Front Street South|     17013|2018-04-18 15:51:47|\n",
      "|           Duarte|         23|Example Bank|  1234460645|          CA|    Highland Avenue|     91010|2018-04-18 15:51:47|\n",
      "|          Redford|         24|Example Bank|  1234617414|          MI|       Grove Street|     48239|2018-04-18 15:51:47|\n",
      "|     NewBaltimore|         25|Example Bank|  1234525844|          MI|        Park Avenue|     48047|2018-04-18 15:51:47|\n",
      "|      LakeJackson|         26|Example Bank|  1234356462|          TX|    Chestnut Avenue|     77566|2018-04-18 15:51:47|\n",
      "|     WinstonSalem|         27|Example Bank|  1234836200|          NC|      Pin Oak Drive|     27103|2018-04-18 15:51:47|\n",
      "|       Midlothian|         28|Example Bank|  1234416595|          VA|    3rd Street West|     23112|2018-04-18 15:51:47|\n",
      "|         Glendora|         29|Example Bank|  1234785605|          CA|      School Street|     91740|2018-04-18 15:51:47|\n",
      "|        SouthLyon|         30|Example Bank|  1234915717|          MI|         Shady Lane|     48178|2018-04-18 15:51:47|\n",
      "|       Carrollton|         31|Example Bank|  1234148639|          GA|       Queen Street|     30117|2018-04-18 15:51:47|\n",
      "|           Helena|         32|Example Bank|  1234302170|          MT|        Aspen Court|     59601|2018-04-18 15:51:47|\n",
      "|       Loganville|         35|Example Bank|  1234316769|          GA|        Durham Road|     30052|2018-04-18 15:51:47|\n",
      "|         ElDorado|         36|Example Bank|  1234685988|          AR|      Spruce Avenue|     71730|2018-04-18 15:51:47|\n",
      "|        CapeCoral|         37|Example Bank|  1234771676|          FL|    Lawrence Street|     33904|2018-04-18 15:51:47|\n",
      "|       Starkville|         38|Example Bank|  1234810167|          MS|         7th Street|     39759|2018-04-18 15:51:47|\n",
      "|       Grandville|         39|Example Bank|  1234209297|          MI|   Devonshire Drive|     49418|2018-04-18 15:51:47|\n",
      "|        Jonesboro|         40|Example Bank|  1234295270|          GA|    Franklin Avenue|     30236|2018-04-18 15:51:47|\n",
      "|       Youngstown|         42|Example Bank|  1234237878|          OH|     Elmwood Avenue|     44512|2018-04-18 15:51:47|\n",
      "|          Houston|         43|Example Bank|  1234755992|          TX|       Ashley Court|     77016|2018-04-18 15:51:47|\n",
      "|       Greenville|         44|Example Bank|  1234736019|          NC|   12th Street East|     27834|2018-04-18 15:51:47|\n",
      "|         Wilmette|         45|Example Bank|  1234453475|          IL|     Bayberry Drive|     60091|2018-04-18 15:51:47|\n",
      "|        Levittown|         46|Example Bank|  1234947541|          NY|       Jones Street|     11756|2018-04-18 15:51:47|\n",
      "|        NewBerlin|         47|Example Bank|  1234873625|          WI|           Route 10|     53151|2018-04-18 15:51:47|\n",
      "|         Bartlett|         48|Example Bank|  1234105725|          IL|       Cedar Avenue|     60103|2018-04-18 15:51:47|\n",
      "|     Chambersburg|         49|Example Bank|  1234156589|          PA|        11th Street|     17201|2018-04-18 15:51:47|\n",
      "|          Granger|         50|Example Bank|  1234115442|          IN|      Fairway Drive|     46530|2018-04-18 15:51:47|\n",
      "|          Lombard|         51|Example Bank|  1234132382|          IL|           Route 20|     60148|2018-04-18 15:51:47|\n",
      "|           ElPaso|         52|Example Bank|  1234245465|          TX|      Fulton Street|     79930|2018-04-18 15:51:47|\n",
      "|          Dundalk|         53|Example Bank|  1234323802|          MD|        Manor Drive|     21222|2018-04-18 15:51:47|\n",
      "|     RedondoBeach|         54|Example Bank|  1234452537|          CA|           Oak Lane|     90278|2018-04-18 15:51:47|\n",
      "|          Rowlett|         56|Example Bank|  1234852596|          TX|  State Street East|     75088|2018-04-18 15:51:47|\n",
      "|       Hartsville|         57|Example Bank|  1234773812|          SC|         New Street|     29550|2018-04-18 15:51:47|\n",
      "|        Rossville|         58|Example Bank|  1234335491|          GA|     Hickory Street|     30741|2018-04-18 15:51:47|\n",
      "|           Waxhaw|         59|Example Bank|  1234841134|          NC|       Country Lane|     28173|2018-04-18 15:51:47|\n",
      "|         Richmond|         60|Example Bank|  1234524034|          VA|       Front Street|     23223|2018-04-18 15:51:47|\n",
      "|           Oxford|         63|Example Bank|  1234372027|          MS|        York Street|     38655|2018-04-18 15:51:47|\n",
      "|          Syosset|         66|Example Bank|  1234656568|          NY|        Winding Way|     11791|2018-04-18 15:51:47|\n",
      "|        Baltimore|         67|Example Bank|  1234432768|          MD|     Jackson Avenue|     21206|2018-04-18 15:51:47|\n",
      "|           Fenton|         69|Example Bank|  1234670647|          MI|     Amherst Street|     48430|2018-04-18 15:51:47|\n",
      "|          Medford|         70|Example Bank|  1234982393|          MA|    Briarwood Court|      2155|2018-04-18 15:51:47|\n",
      "|             Stow|         72|Example Bank|  1234445988|          OH|        Essex Court|     44224|2018-04-18 15:51:47|\n",
      "|       Oconomowoc|         73|Example Bank|  1234845883|          WI|         Maple Lane|     53066|2018-04-18 15:51:47|\n",
      "|         Dearborn|         74|Example Bank|  1234273715|          MI|    Evergreen Drive|     48124|2018-04-18 15:51:47|\n",
      "|         Rockaway|         75|Example Bank|  1234204383|          NJ|         9th Street|      7866|2018-04-18 15:51:47|\n",
      "|    WinterSprings|         76|Example Bank|  1234513234|          FL|         8th Avenue|     32708|2018-04-18 15:51:47|\n",
      "|    UpperMarlboro|         77|Example Bank|  1234489272|          MD|       Grant Avenue|     20772|2018-04-18 15:51:47|\n",
      "|        Mundelein|         78|Example Bank|  1234164452|          IL|      Heather Court|     60060|2018-04-18 15:51:47|\n",
      "|       Bettendorf|         79|Example Bank|  1234394450|          IA|      George Street|     52722|2018-04-18 15:51:47|\n",
      "|       Enterprise|         80|Example Bank|  1234228258|          AL|       Court Street|     36330|2018-04-18 15:51:47|\n",
      "|     Simpsonville|         81|Example Bank|  1234583583|          SC|      Summer Street|     29680|2018-04-18 15:51:47|\n",
      "|       Brookfield|         83|Example Bank|  1234242554|          WI|    Creekside Drive|     53045|2018-04-18 15:51:47|\n",
      "|         LaCrosse|         85|Example Bank|  1234785116|          WI|       Brown Street|     54601|2018-04-18 15:51:47|\n",
      "|     BuffaloGrove|         89|Example Bank|  1234750836|          IL|      Chapel Street|     60089|2018-04-18 15:51:47|\n",
      "|      Chillicothe|         90|Example Bank|  1234890424|          OH|   Tanglewood Drive|     45601|2018-04-18 15:51:47|\n",
      "|        Davenport|         91|Example Bank|  1234759319|          IA|   Lafayette Avenue|     52804|2018-04-18 15:51:47|\n",
      "|     Poughkeepsie|         93|Example Bank|  1234885339|          NY|    Harrison Street|     12601|2018-04-18 15:51:47|\n",
      "|           Apopka|         95|Example Bank|  1234667289|          FL|     Madison Street|     32703|2018-04-18 15:51:47|\n",
      "|          Seymour|         99|Example Bank|  1234164581|          IN|      Bridge Street|     47274|2018-04-18 15:51:47|\n",
      "|       Wellington|        100|Example Bank|  1234809695|          FL|         New Street|     33414|2018-04-18 15:51:47|\n",
      "|        SiouxCity|        103|Example Bank|  1234483865|          IA|       Grant Street|     51106|2018-04-18 15:51:47|\n",
      "|           Owosso|        104|Example Bank|  1234909907|          MI|    Cambridge Court|     48867|2018-04-18 15:51:47|\n",
      "|       LongBranch|        105|Example Bank|  1234723165|          NJ|    Virginia Avenue|      7740|2018-04-18 15:51:47|\n",
      "|         Defiance|        107|Example Bank|  1234464046|          OH|    Delaware Avenue|     43512|2018-04-18 15:51:47|\n",
      "|             Ames|        109|Example Bank|  1234474482|          IA|     Edgewood Drive|     50010|2018-04-18 15:51:47|\n",
      "|     Kernersville|        111|Example Bank|  1234369108|          NC|       River Street|     27284|2018-04-18 15:51:47|\n",
      "|         PalmCity|        114|Example Bank|  1234172062|          FL|     Madison Street|     34990|2018-04-18 15:51:47|\n",
      "|    MurrellsInlet|        115|Example Bank|  1234908194|          SC|   Jefferson Street|     29576|2018-04-18 15:51:47|\n",
      "|       Canonsburg|        117|Example Bank|  1234197777|          PA|           Route 64|     15317|2018-04-18 15:51:47|\n",
      "|          Hanover|        118|Example Bank|  1234498005|          PA|       Henry Street|     17331|2018-04-18 15:51:47|\n",
      "|          Ashland|        119|Example Bank|  1234121204|          OH|      Fulton Street|     44805|2018-04-18 15:51:47|\n",
      "|           Oxnard|        121|Example Bank|  1234368280|          CA|      Warren Street|     93035|2018-04-18 15:51:47|\n",
      "|   DeerfieldBeach|        123|Example Bank|  1234365113|          FL|      Willow Avenue|     33442|2018-04-18 15:51:47|\n",
      "|            Osseo|        124|Example Bank|  1234134552|          MN|         Bay Street|     55311|2018-04-18 15:51:47|\n",
      "|      AllisonPark|        125|Example Bank|  1234699441|          PA|    Cambridge Court|     15101|2018-04-18 15:51:47|\n",
      "|         Bethesda|        126|Example Bank|  1234723287|          MD|           Route 10|     20814|2018-04-18 15:51:47|\n",
      "|          Valrico|        131|Example Bank|  1234880523|          FL|       Orchard Lane|     33594|2018-04-18 15:51:47|\n",
      "|           Nanuet|        135|Example Bank|  1234831678|          NY|    Canterbury Road|     10954|2018-04-18 15:51:47|\n",
      "|     Independence|        136|Example Bank|  1234601062|          KY|           Route 11|     41051|2018-04-18 15:51:47|\n",
      "|       SanLorenzo|        139|Example Bank|  1234547241|          CA|   Jefferson Street|     94580|2018-04-18 15:51:47|\n",
      "|  NewPhiladelphia|        144|Example Bank|  1234636138|          OH|    Chestnut Avenue|     44663|2018-04-18 15:51:47|\n",
      "|         Clermont|        145|Example Bank|  1234292781|          FL|    6th Street West|     34711|2018-04-18 15:51:47|\n",
      "+-----------------+-----------+------------+------------+------------+-------------------+----------+-------------------+\n",
      "only showing top 100 rows\n",
      "\n"
     ]
    }
   ],
   "source": [
    "#Replace 999999 for null on branch_zip column \n",
    "df_branch = df_branch.fillna({\"BRANCH_ZIP\": 999999})\n",
    "df_branch.show(5)\n"
   ]
  },
  {
   "cell_type": "code",
   "execution_count": 7,
   "id": "cb398c46",
   "metadata": {},
   "outputs": [
    {
     "name": "stdout",
     "output_type": "stream",
     "text": [
      "+-----------+-----------+-----------+------------+------------+-------------+----------+------------+\n",
      "|BRANCH_CITY|BRANCH_CODE|BRANCH_NAME|BRANCH_PHONE|BRANCH_STATE|BRANCH_STREET|BRANCH_ZIP|LAST_UPDATED|\n",
      "+-----------+-----------+-----------+------------+------------+-------------+----------+------------+\n",
      "+-----------+-----------+-----------+------------+------------+-------------+----------+------------+\n",
      "\n"
     ]
    }
   ],
   "source": [
    "#df_branch.filter(df_branch.BRANCH_ZIP == 999999).show(truncate=False)"
   ]
  },
  {
   "cell_type": "code",
   "execution_count": null,
   "id": "61b84833",
   "metadata": {},
   "outputs": [],
   "source": []
  },
  {
   "cell_type": "code",
   "execution_count": 6,
   "id": "c14e17d7",
   "metadata": {},
   "outputs": [],
   "source": []
  },
  {
   "cell_type": "code",
   "execution_count": 5,
   "id": "fe325f31",
   "metadata": {},
   "outputs": [
    {
     "name": "stdout",
     "output_type": "stream",
     "text": [
      "+-----------------+-----------+------------+-------------+------------+-----------------+----------+-------------------+\n",
      "|      BRANCH_CITY|BRANCH_CODE| BRANCH_NAME| BRANCH_PHONE|BRANCH_STATE|    BRANCH_STREET|BRANCH_ZIP|       LAST_UPDATED|\n",
      "+-----------------+-----------+------------+-------------+------------+-----------------+----------+-------------------+\n",
      "|        Lakeville|          1|Example Bank|(123)456-5276|          MN|     Bridle Court|     55044|2018-04-18 15:51:47|\n",
      "|          Huntley|          2|Example Bank|(123)461-8993|          IL|Washington Street|     60142|2018-04-18 15:51:47|\n",
      "|SouthRichmondHill|          3|Example Bank|(123)498-5926|          NY|    Warren Street|     11419|2018-04-18 15:51:47|\n",
      "+-----------------+-----------+------------+-------------+------------+-----------------+----------+-------------------+\n",
      "only showing top 3 rows\n",
      "\n"
     ]
    }
   ],
   "source": [
    "df_branch = df_branch.withColumn('BRANCH_PHONE',regexp_replace('BRANCH_PHONE',r'(^\\d{3})(\\d{3})(\\d{4})',r'($1)$2-$3'))\n",
    "df_branch.show(3)"
   ]
  },
  {
   "cell_type": "code",
   "execution_count": null,
   "id": "c65ebdd9",
   "metadata": {},
   "outputs": [],
   "source": []
  },
  {
   "cell_type": "markdown",
   "id": "8fbb6c27",
   "metadata": {},
   "source": [
    "# Function Requirement 1.2\n",
    "\n",
    "Data loading into Database"
   ]
  },
  {
   "cell_type": "code",
   "execution_count": 7,
   "id": "332e6ba0",
   "metadata": {},
   "outputs": [],
   "source": [
    "df_branch.write.format(\"jdbc\") \\\n",
    ".mode(\"append\") \\\n",
    ".option(\"url\", \"jdbc:mysql://localhost:3306/creditcard_capstone_\") \\\n",
    ".option(\"dbtable\", \"creditcard_capstone_.CDW_SAPP_BRANCH\") \\\n",
    ".option(\"user\", \"root\") \\\n",
    ".option(\"password\", \"a\") \\\n",
    ".save()"
   ]
  },
  {
   "cell_type": "markdown",
   "id": "7feab678",
   "metadata": {},
   "source": [
    "# 2. Functional Requirements - Application Front-End\n",
    "   2.1 Transaction Details Module"
   ]
  },
  {
   "cell_type": "code",
   "execution_count": null,
   "id": "a25a9b41",
   "metadata": {},
   "outputs": [],
   "source": []
  },
  {
   "cell_type": "code",
   "execution_count": null,
   "id": "f991b175",
   "metadata": {},
   "outputs": [],
   "source": []
  }
 ],
 "metadata": {
  "kernelspec": {
   "display_name": "Python 3 (ipykernel)",
   "language": "python",
   "name": "python3"
  },
  "language_info": {
   "codemirror_mode": {
    "name": "ipython",
    "version": 3
   },
   "file_extension": ".py",
   "mimetype": "text/x-python",
   "name": "python",
   "nbconvert_exporter": "python",
   "pygments_lexer": "ipython3",
   "version": "3.9.12"
  }
 },
 "nbformat": 4,
 "nbformat_minor": 5
}
