{
 "cells": [
  {
   "cell_type": "code",
   "execution_count": 3,
   "id": "565edb95",
   "metadata": {},
   "outputs": [
    {
     "name": "stdout",
     "output_type": "stream",
     "text": [
      "Welcome to\n",
      "      ____              __\n",
      "     / __/__  ___ _____/ /__\n",
      "    _\\ \\/ _ \\/ _ `/ __/  '_/\n",
      "   /__ / .__/\\_,_/_/ /_/\\_\\   version 3.3.0\n",
      "      /_/\n",
      "\n",
      "Using Python version 3.9.12 (main, Apr  4 2022 05:22:27)\n",
      "Spark context Web UI available at http://LAPTOP-PSIMHJKQ:4041\n",
      "Spark context available as 'sc' (master = local[*], app id = local-1661604817744).\n",
      "SparkSession available as 'spark'.\n"
     ]
    }
   ],
   "source": [
    "import os\n",
    "import sys\n",
    "from pyspark import SparkContext\n",
    "from pyspark.sql import SparkSession\n",
    "from pyspark.sql.types import StructType,StructField,StringType,IntegerType,DateType,DecimalType,DoubleType,BooleanType,TimestampType\n",
    "from pyspark.shell import spark\n",
    "\n",
    "from pyspark.sql.functions import initcap, lower,col,year,month,dayofmonth,expr\n",
    "from pyspark.sql import functions as sf\n",
    "from pyspark.sql.functions import regexp_replace\n",
    "import datetime\n",
    "import pandas as pd\n",
    "import numpy as np\n",
    " \n",
    "\n",
    "#import org.apache.spark.sql.functions.format_number\n",
    "\n",
    "\n",
    "\n",
    "\n",
    "os.environ['PYSPARK_PYTHON'] = sys.executable\n",
    "os.environ['PYSPARK_DRIVER_PYTHON'] = sys.executable\n",
    "spark_app = SparkSession.builder.config(\"spark.driver.host\", \"localhost\").getOrCreate()\n",
    "\n"
   ]
  },
  {
   "cell_type": "markdown",
   "id": "7cbf96a0",
   "metadata": {},
   "source": [
    "# Functional Requirement 1.1\n",
    "1.1 Functional Requirements - Load Credit Card Database -cdw_sapp_credit(SQL)\n"
   ]
  },
  {
   "cell_type": "code",
   "execution_count": 12,
   "id": "c27403ab",
   "metadata": {},
   "outputs": [],
   "source": [
    "\n",
    "#cdw_sapp_f_creditcard details\n",
    "credit_df = spark.read.format('org.apache.spark.sql.json').load('C:/Users/asha_/dev/capstoneproj/Data/cdw_sapp_credit.json')\n",
    "#df_credit1.show(5)\n",
    "#df_credit1.printSchema()"
   ]
  },
  {
   "cell_type": "code",
   "execution_count": 13,
   "id": "f34e832b",
   "metadata": {},
   "outputs": [],
   "source": [
    "credit_df.createOrReplaceTempView(\"credit_table\")"
   ]
  },
  {
   "cell_type": "code",
   "execution_count": 14,
   "id": "4e453b9c",
   "metadata": {},
   "outputs": [
    {
     "name": "stdout",
     "output_type": "stream",
     "text": [
      "+-----------+----------------+---------+---+-----+--------------+----------------+-----------------+----+\n",
      "|BRANCH_CODE|  CREDIT_CARD_NO| CUST_SSN|DAY|MONTH|TRANSACTION_ID|TRANSACTION_TYPE|TRANSACTION_VALUE|YEAR|\n",
      "+-----------+----------------+---------+---+-----+--------------+----------------+-----------------+----+\n",
      "|        114|4210653349028689|123459988| 14|    2|             1|       Education|             78.9|2018|\n",
      "|         35|4210653349028689|123459988| 20|    3|             2|   Entertainment|            14.24|2018|\n",
      "|        160|4210653349028689|123459988|  8|    7|             3|         Grocery|             56.7|2018|\n",
      "+-----------+----------------+---------+---+-----+--------------+----------------+-----------------+----+\n",
      "only showing top 3 rows\n",
      "\n"
     ]
    }
   ],
   "source": [
    "spark.sql(\"select * from credit_table\").show(3)"
   ]
  },
  {
   "cell_type": "code",
   "execution_count": 15,
   "id": "5624607d",
   "metadata": {},
   "outputs": [],
   "source": [
    "credit_df = spark.sql('SELECT CREDIT_CARD_NO CUST_CC_NO,\\\n",
    "         CONCAT(YEAR, LPAD(Month, 2, 0), \\\n",
    "         LPAD(Day, 2, 0)) TIMEID, \\\n",
    "         CUST_SSN,\\\n",
    "         BRANCH_CODE,\\\n",
    "         TRANSACTION_TYPE,\\\n",
    "         TRANSACTION_VALUE,\\\n",
    "         TRANSACTION_ID \\\n",
    " FROM credit_table')"
   ]
  },
  {
   "cell_type": "code",
   "execution_count": 17,
   "id": "0efd7620",
   "metadata": {},
   "outputs": [
    {
     "name": "stdout",
     "output_type": "stream",
     "text": [
      "+----------------+--------+---------+-----------+----------------+-----------------+--------------+\n",
      "|      CUST_CC_NO|  TIMEID| CUST_SSN|BRANCH_CODE|TRANSACTION_TYPE|TRANSACTION_VALUE|TRANSACTION_ID|\n",
      "+----------------+--------+---------+-----------+----------------+-----------------+--------------+\n",
      "|4210653349028689|20180214|123459988|        114|       Education|             78.9|             1|\n",
      "|4210653349028689|20180320|123459988|         35|   Entertainment|            14.24|             2|\n",
      "|4210653349028689|20180708|123459988|        160|         Grocery|             56.7|             3|\n",
      "|4210653349028689|20180419|123459988|        114|   Entertainment|            59.73|             4|\n",
      "|4210653349028689|20181010|123459988|         93|             Gas|             3.59|             5|\n",
      "+----------------+--------+---------+-----------+----------------+-----------------+--------------+\n",
      "only showing top 5 rows\n",
      "\n",
      "root\n",
      " |-- CUST_CC_NO: string (nullable = true)\n",
      " |-- TIMEID: string (nullable = true)\n",
      " |-- CUST_SSN: long (nullable = true)\n",
      " |-- BRANCH_CODE: long (nullable = true)\n",
      " |-- TRANSACTION_TYPE: string (nullable = true)\n",
      " |-- TRANSACTION_VALUE: double (nullable = true)\n",
      " |-- TRANSACTION_ID: long (nullable = true)\n",
      "\n"
     ]
    }
   ],
   "source": [
    "credit_df.show(5)\n",
    "credit_df.printSchema()"
   ]
  },
  {
   "cell_type": "code",
   "execution_count": 19,
   "id": "284d70db",
   "metadata": {},
   "outputs": [
    {
     "name": "stdout",
     "output_type": "stream",
     "text": [
      "root\n",
      " |-- CUST_CC_NO: string (nullable = true)\n",
      " |-- TIMEID: string (nullable = true)\n",
      " |-- CUST_SSN: integer (nullable = true)\n",
      " |-- BRANCH_CODE: integer (nullable = true)\n",
      " |-- TRANSACTION_TYPE: string (nullable = true)\n",
      " |-- TRANSACTION_VALUE: double (nullable = true)\n",
      " |-- TRANSACTION_ID: integer (nullable = true)\n",
      "\n"
     ]
    }
   ],
   "source": [
    "#changing datatype of columns\n",
    "\n",
    "#credit_df = credit_df.withColumn(\"TIMEID\",col(\"TIMEID\").cast(\"String\"))\n",
    "credit_df = credit_df.withColumn(\"CUST_SSN\",col(\"CUST_SSN\").cast(\"int\"))\n",
    "credit_df = credit_df.withColumn(\"TRANSACTION_ID\",col(\"TRANSACTION_ID\").cast(\"int\"))\n",
    "credit_df = credit_df.withColumn(\"BRANCH_CODE\",col(\"BRANCH_CODE\").cast(\"int\"))\n",
    "#df_credit2.show(3)\n",
    "credit_df.printSchema()"
   ]
  },
  {
   "cell_type": "code",
   "execution_count": null,
   "id": "179b4cf1",
   "metadata": {},
   "outputs": [],
   "source": []
  },
  {
   "cell_type": "code",
   "execution_count": 3,
   "id": "7511510a",
   "metadata": {},
   "outputs": [],
   "source": [
    "#created column named 'timed'\n",
    "#df_credit2 = df_credit1.withColumn(\"TIMEID\", expr(\"make_date(Year,Month,Day)\"))\n",
    "\n",
    "\n"
   ]
  },
  {
   "cell_type": "code",
   "execution_count": 20,
   "id": "ae02f721",
   "metadata": {},
   "outputs": [],
   "source": [
    "# column renamed from credit_card_no to cust_cc_no\n",
    "#df_credit2 = df_credit2.withColumnRenamed(\"CREDIT_CARD_NO\",\"CUST_CC_NO\")"
   ]
  },
  {
   "cell_type": "code",
   "execution_count": 21,
   "id": "3a93d563",
   "metadata": {},
   "outputs": [],
   "source": [
    "\n",
    "#drop columns day,month,year\n",
    "#df_credit2 = df_credit2.drop('DAY','MONTH','YEAR')\n",
    "#df_credit2.printSchema()\n",
    "#df_credit2.show(5)\n"
   ]
  },
  {
   "cell_type": "code",
   "execution_count": null,
   "id": "8c3ea620",
   "metadata": {},
   "outputs": [],
   "source": []
  },
  {
   "cell_type": "code",
   "execution_count": 22,
   "id": "b257b32f",
   "metadata": {},
   "outputs": [],
   "source": [
    "#changing datatype of columns\n",
    "\n",
    "#df_credit2= df_credit2.withColumn(\"TIMEID\",col(\"TIMEID\").cast(\"String\"))\n",
    "#df_credit2 = df_credit2.withColumn(\"CUST_SSN\",col(\"CUST_SSN\").cast(\"int\"))\n",
    "#df_credit2= df_credit2.withColumn(\"TRANSACTION_ID\",col(\"TRANSACTION_ID\").cast(\"int\"))\n",
    "#df_credit2 = df_credit2.withColumn(\"BRANCH_CODE\",col(\"BRANCH_CODE\").cast(\"int\"))\n",
    "#df_credit2.show(3)\n",
    "#df_credit2.printSchema()"
   ]
  },
  {
   "cell_type": "code",
   "execution_count": null,
   "id": "f357757f",
   "metadata": {},
   "outputs": [],
   "source": []
  },
  {
   "cell_type": "markdown",
   "id": "2969eaf2",
   "metadata": {},
   "source": [
    "# Function Requirement 1.2\n",
    "\n",
    "Data loading into Database"
   ]
  },
  {
   "cell_type": "code",
   "execution_count": 24,
   "id": "677fd940",
   "metadata": {},
   "outputs": [],
   "source": [
    "credit_df.write.format(\"jdbc\") \\\n",
    ".mode(\"append\") \\\n",
    ".option(\"url\", \"jdbc:mysql://localhost:3306/creditcard_capstone_\") \\\n",
    ".option(\"dbtable\", \"creditcard_capstone_.CDW_SAPP_CREDIT_CARD\") \\\n",
    ".option(\"user\", \"root\") \\\n",
    ".option(\"password\", \"a\") \\\n",
    ".save()"
   ]
  },
  {
   "cell_type": "code",
   "execution_count": null,
   "id": "e324e00c",
   "metadata": {},
   "outputs": [],
   "source": []
  },
  {
   "cell_type": "code",
   "execution_count": null,
   "id": "e587eb2a",
   "metadata": {},
   "outputs": [],
   "source": []
  },
  {
   "cell_type": "code",
   "execution_count": null,
   "id": "a3a2f2c2",
   "metadata": {},
   "outputs": [],
   "source": []
  }
 ],
 "metadata": {
  "kernelspec": {
   "display_name": "Python 3 (ipykernel)",
   "language": "python",
   "name": "python3"
  },
  "language_info": {
   "codemirror_mode": {
    "name": "ipython",
    "version": 3
   },
   "file_extension": ".py",
   "mimetype": "text/x-python",
   "name": "python",
   "nbconvert_exporter": "python",
   "pygments_lexer": "ipython3",
   "version": "3.9.12"
  }
 },
 "nbformat": 4,
 "nbformat_minor": 5
}
