{
 "cells": [
  {
   "cell_type": "markdown",
   "id": "3bd10e74",
   "metadata": {},
   "source": [
    "# 2. Functional Requirements - Application Front-End\n",
    "2.1 Transaction Details Module"
   ]
  },
  {
   "cell_type": "code",
   "execution_count": 1,
   "id": "bbc06628",
   "metadata": {},
   "outputs": [
    {
     "ename": "ModuleNotFoundError",
     "evalue": "No module named 'dotenv'",
     "output_type": "error",
     "traceback": [
      "\u001b[1;31m---------------------------------------------------------------------------\u001b[0m",
      "\u001b[1;31mModuleNotFoundError\u001b[0m                       Traceback (most recent call last)",
      "Input \u001b[1;32mIn [1]\u001b[0m, in \u001b[0;36m<cell line: 7>\u001b[1;34m()\u001b[0m\n\u001b[0;32m      5\u001b[0m \u001b[38;5;28;01mfrom\u001b[39;00m \u001b[38;5;21;01mgetpass\u001b[39;00m \u001b[38;5;28;01mimport\u001b[39;00m getpass\n\u001b[0;32m      6\u001b[0m \u001b[38;5;28;01mimport\u001b[39;00m \u001b[38;5;21;01mos\u001b[39;00m\n\u001b[1;32m----> 7\u001b[0m \u001b[38;5;28;01mimport\u001b[39;00m \u001b[38;5;21;01mdotenv\u001b[39;00m\n",
      "\u001b[1;31mModuleNotFoundError\u001b[0m: No module named 'dotenv'"
     ]
    }
   ],
   "source": [
    "import mysql.connector as mysql\n",
    "from mysql.connector import Error\n",
    "import numpy as np\n",
    "import pandas as pd\n",
    "from getpass import getpass\n",
    "import os\n",
    "from dotenv import dotenv\n",
    "\n"
   ]
  },
  {
   "cell_type": "code",
   "execution_count": 2,
   "id": "e637d264",
   "metadata": {},
   "outputs": [
    {
     "name": "stdout",
     "output_type": "stream",
     "text": [
      "+----------------+--------+---------+-----------+----------------+-----------------+--------------+\n",
      "|      CUST_CC_NO|  TIMEID| CUST_SSN|BRANCH_CODE|TRANSACTION_TYPE|TRANSACTION_VALUE|TRANSACTION_ID|\n",
      "+----------------+--------+---------+-----------+----------------+-----------------+--------------+\n",
      "|4210653312478046|20180813|123455692|        156|         Grocery|            91.08|         22562|\n",
      "+----------------+--------+---------+-----------+----------------+-----------------+--------------+\n",
      "only showing top 1 row\n",
      "\n"
     ]
    }
   ],
   "source": [
    "from pyspark.sql import SparkSession\n",
    "spark = SparkSession.builder.master(\"local[*]\").appName(\"Test SQL app\").getOrCreate()\n",
    "\n",
    "\n",
    "\n",
    "df=spark.read.format(\"jdbc\").options(driver=\"com.mysql.cj.jdbc.Driver\",\\\n",
    "                                   user=\"root\",\\\n",
    "                                    password=\"a\",\\\n",
    "                                    url=\"jdbc:mysql://localhost:3306/creditcard_capstone_\",\\\n",
    "                                    dbtable=\"creditcard_capstone_.cdw_sapp_credit_card\").load()\n",
    "df.show(1)\n"
   ]
  },
  {
   "cell_type": "markdown",
   "id": "151c8948",
   "metadata": {},
   "source": [
    "# Functional Requirements 2.1\n",
    "1) Used to display the transactions made by customers living in a given zip code for a given month and year.\n",
    "Order by day in descending order.\n"
   ]
  },
  {
   "cell_type": "code",
   "execution_count": 3,
   "id": "52556ce5",
   "metadata": {},
   "outputs": [],
   "source": [
    "def get_database_connection():\n",
    "    connection = mysql.connect(host='localhost',\n",
    "                                            database='creditcard_capstone_',\n",
    "                                            user='root',\n",
    "                                            password='a')\n",
    "    if connection.is_connected():\n",
    "        db_Info = connection.get_server_info()\n",
    "    #cursor = connection.cursor()\n",
    "    return(connection)\n",
    "  "
   ]
  },
  {
   "cell_type": "code",
   "execution_count": 4,
   "id": "040e4b59",
   "metadata": {},
   "outputs": [
    {
     "name": "stdout",
     "output_type": "stream",
     "text": [
      "Enter Your Zip Code:  39120\n",
      "Enter the year for transactions records:  2018\n",
      "Enter the month in the form (XX): 06\n",
      "\n",
      " List of  customer transactions in a given Zip code : \n",
      "\n",
      "\n",
      " Customer no\t\tdate\t   cust_ssn  code  type       value  id\n",
      "('4210653374740577', '2018-06-28', 123459564, 135, 'Gas', 34.86, 2206)\n",
      "('4210653396189363', '2018-06-26', 123457139, 144, 'Test', 4.89, 15235)\n",
      "('4210653323781193', '2018-06-25', 123455582, 3, 'Bills', 18.08, 22996)\n",
      "('4210653323781193', '2018-06-24', 123455582, 79, 'Healthcare', 7.15, 23014)\n",
      "('4210653362697310', '2018-06-23', 123459262, 54, 'Bills', 83.1, 3535)\n",
      "('4210653374740577', '2018-06-22', 123459564, 109, 'Grocery', 89.21, 2190)\n",
      "('4210653359877473', '2018-06-20', 123457519, 119, 'Healthcare', 51.64, 12663)\n",
      "('4210653396189363', '2018-06-19', 123457139, 30, 'Education', 12.17, 15240)\n",
      "('4210653323781193', '2018-06-18', 123455582, 46, 'Grocery', 61.46, 23021)\n",
      "('4210653323781193', '2018-06-16', 123455582, 95, 'Test', 99.55, 23026)\n",
      "('4210653362697310', '2018-06-15', 123459262, 46, 'Test', 61.84, 3522)\n",
      "('4210653310061055', '2018-06-11', 123456100, 8, 'Test', 26.96, 20532)\n",
      "('4210653323781193', '2018-06-09', 123455582, 69, 'Education', 21.07, 22977)\n",
      "('4210653362697310', '2018-06-08', 123459262, 4, 'Grocery', 40.38, 3521)\n",
      "('4210653310061055', '2018-06-07', 123456100, 93, 'Grocery', 42.57, 20531)\n",
      "('4210653323781193', '2018-06-06', 123455582, 18, 'Grocery', 38.01, 23019)\n",
      "('4210653323781193', '2018-06-05', 123455582, 60, 'Gas', 76.26, 23001)\n",
      "('4210653374740577', '2018-06-04', 123459564, 24, 'Grocery', 4.94, 2182)\n",
      "('4210653323781193', '2018-06-03', 123455582, 156, 'Healthcare', 25.49, 22973)\n",
      "('4210653310061055', '2018-06-02', 123456100, 93, 'Test', 86.14, 20553)\n"
     ]
    }
   ],
   "source": [
    "def total_cust():\n",
    "    \n",
    "    connection = get_database_connection()\n",
    "    cursor = connection.cursor()\n",
    "\n",
    "    zip_code = input(\"Enter Your Zip Code:  \")\n",
    "    \n",
    "    transaction_year = input(\"Enter the year for transactions records:  \")\n",
    "        \n",
    "    transaction_month = input(\"Enter the month in the form (XX): \").zfill(2)\n",
    "    \n",
    "\n",
    "    \n",
    "    query =\"SELECT CUST_CC_NO,date_format(TIMEID,'%Y-%m-%d') as transaction_date,CUST_SSN,BRANCH_CODE, \\\n",
    "    TRANSACTION_TYPE,TRANSACTION_VALUE,TRANSACTION_ID \\\n",
    "    FROM (SELECT ssn from cdw_sapp_customer where cust_zip = %s) as customer \\\n",
    "    join cdw_sapp_credit_card on cdw_sapp_credit_card.cust_ssn = customer.ssn\\\n",
    "    where SUBSTRING(timeid, 1, 4)  = %s and SUBSTRING(timeid, 5, 2)  = %s \\\n",
    "    Group by timeid desc;\"\n",
    "\n",
    "    cursor.execute(query,(zip_code,transaction_year,transaction_month,))\n",
    "    records = cursor.fetchall()\n",
    "    print(\"\\n List of  customer transactions in a given Zip code : \")\n",
    "    print(\"\\n\\n Customer no\\t\\tdate\\t   cust_ssn  code  type       value  id\")\n",
    "    for row in records:\n",
    "        print(row)\n",
    "    connection.close()\n",
    "total_cust()"
   ]
  },
  {
   "cell_type": "code",
   "execution_count": null,
   "id": "0329881a",
   "metadata": {},
   "outputs": [],
   "source": []
  },
  {
   "cell_type": "markdown",
   "id": "28b4f313",
   "metadata": {},
   "source": [
    "# Functional Requirements 2.1\n",
    "2)Used to display the number and total values of transactions for a given type.\n"
   ]
  },
  {
   "cell_type": "code",
   "execution_count": 5,
   "id": "2249f667",
   "metadata": {},
   "outputs": [
    {
     "name": "stdout",
     "output_type": "stream",
     "text": [
      "Enter The Type Of Transaction :    healthcare\n",
      "\n",
      " Number of transactions and total value for transaction type healthcare : \n",
      "[(6723, 340476.19999999896)]\n"
     ]
    }
   ],
   "source": [
    "def trans_value():\n",
    "    transaction_type = input(\"Enter The Type Of Transaction :    \")\n",
    "    flag = True\n",
    "    connection = get_database_connection()\n",
    "    cursor = connection.cursor()\n",
    "\n",
    "\n",
    "\n",
    "    query = \"SELECT count(*),sum(transaction_value) from cdw_sapp_credit_card where transaction_type = %s\"\n",
    "\n",
    "    cursor.execute(query,(transaction_type,))\n",
    "    records = cursor.fetchall()\n",
    "    print(\"\\n Number of transactions and total value for transaction type \" + transaction_type + \" : \")\n",
    "    print(records)\n",
    "    connection.close()\n",
    "    \n",
    "trans_value()\n"
   ]
  },
  {
   "cell_type": "code",
   "execution_count": null,
   "id": "9b6b1699",
   "metadata": {},
   "outputs": [],
   "source": []
  },
  {
   "cell_type": "markdown",
   "id": "79656b4b",
   "metadata": {},
   "source": [
    "# Functional Requirements 2.1\n",
    "3) Used to display the number and total values of transactions for branches in a given state.\n"
   ]
  },
  {
   "cell_type": "code",
   "execution_count": null,
   "id": "e96435fd",
   "metadata": {},
   "outputs": [],
   "source": [
    "def trans_value_branch():\n",
    "    \n",
    "    connection = get_database_connection()\n",
    "    cursor = connection.cursor()\n",
    "    \n",
    "    flag = True\n",
    "\n",
    "\n",
    "    query = \"select distinct(branch_state) from cdw_sapp_branch\"\n",
    "    \n",
    "    cursor.execute(query,)\n",
    "    records = cursor.fetchall()\n",
    "    \n",
    "\n",
    "    \n",
    "    branch_state = input(\"Enter the state in XX format :    \")\n",
    "    \n",
    "    query=\"select count(transaction_type) , sum(transaction_value) from cdw_sapp_credit_card \\\n",
    "                   join cdw_sapp_branch on cdw_sapp_branch.branch_code = cdw_sapp_credit_card.BRANCH_CODE \\\n",
    "                   where cdw_sapp_branch.branch_state = %s \\\n",
    "                   group by cdw_sapp_branch.branch_code;\"\n",
    "    cursor.execute(query,(branch_state,))\n",
    "    records = cursor.fetchall()\n",
    "    for row in records:\n",
    "        print(row)\n",
    "        \n",
    "trans_value_branch()"
   ]
  },
  {
   "cell_type": "code",
   "execution_count": null,
   "id": "e63d5b16",
   "metadata": {},
   "outputs": [],
   "source": []
  },
  {
   "cell_type": "markdown",
   "id": "a528da61",
   "metadata": {},
   "source": [
    "# Functional Requirements 2.2\n",
    "2.2 Customer Details Module\n",
    "1) Used to check the existing account details of a customer."
   ]
  },
  {
   "cell_type": "code",
   "execution_count": null,
   "id": "b484d6fd",
   "metadata": {},
   "outputs": [],
   "source": [
    "def cust_details():\n",
    "    \n",
    "    connection = get_database_connection()\n",
    "    cursor = connection.cursor()\n",
    "    \n",
    "    flag = True\n",
    "        \n",
    "    ssn = getpass(\"Enter the last 4 digits of SSN :    \" )\n",
    "            \n",
    "    lastname = input('Enter the lastname:   ')\n",
    "    query=\"select * from cdw_sapp_customer where substr(ssn,6,4) = %s and Last_name = %s\"\n",
    "    \n",
    "    cursor.execute(query,(ssn,lastname,))\n",
    "    \n",
    "    records = cursor.fetchall()\n",
    "    \n",
    "    print(records)\n",
    "    cursor.close()    \n",
    "    \n",
    "cust_details()"
   ]
  },
  {
   "cell_type": "code",
   "execution_count": null,
   "id": "7d3e2df3",
   "metadata": {},
   "outputs": [],
   "source": []
  },
  {
   "cell_type": "markdown",
   "id": "1c534541",
   "metadata": {},
   "source": [
    "# Functional Requirements 2.2\n",
    "2) Used to modify the existing account details of a customer."
   ]
  },
  {
   "cell_type": "code",
   "execution_count": 5,
   "id": "e44bd9a8",
   "metadata": {},
   "outputs": [
    {
     "name": "stdout",
     "output_type": "stream",
     "text": [
      "Enter the firstname :    Alec\n",
      "Enter the lastname to modify:   Seetha\n",
      "last name updated\n"
     ]
    }
   ],
   "source": [
    "def modify_customer_details():\n",
    "    \n",
    "    \n",
    "    connection = get_database_connection()\n",
    "    cursor = connection.cursor()\n",
    "    \n",
    "        \n",
    "    firstname = input(\"Enter the firstname :    \" )\n",
    "            \n",
    "    lastname = input('Enter the lastname to modify:   ')\n",
    "    query= \"UPDATE cdw_sapp_customer SET Last_name = %s where first_name = %s\"\n",
    "    \n",
    "    \n",
    "    cursor.execute(query,(lastname,firstname,))\n",
    "    records = cursor.fetchall()\n",
    "    \n",
    "    \n",
    "    for row in records:\n",
    "        print(row)\n",
    "    connection.commit()\n",
    "    print(\"last name updated\")\n",
    "    \n",
    "    \n",
    "    cursor.close()     \n",
    "modify_customer_details()   "
   ]
  },
  {
   "cell_type": "code",
   "execution_count": null,
   "id": "d2c8a99a",
   "metadata": {},
   "outputs": [],
   "source": []
  },
  {
   "cell_type": "code",
   "execution_count": null,
   "id": "7cdd961d",
   "metadata": {},
   "outputs": [],
   "source": []
  },
  {
   "cell_type": "markdown",
   "id": "c88e629e",
   "metadata": {},
   "source": [
    "\n",
    "# Functional Requirements 2.2\n",
    "3) Used to generate a monthly bill for a credit card number for a given month and year.\n"
   ]
  },
  {
   "cell_type": "code",
   "execution_count": 6,
   "id": "d85150f3",
   "metadata": {},
   "outputs": [
    {
     "name": "stdout",
     "output_type": "stream",
     "text": [
      "Enter the credit card no :    4210653310061055\n",
      "Enter the year for transactions records(yyyy):  2018\n",
      "Enter the year,month for the transaction (mm): 12\n",
      "\n",
      " List of  customer transactions on a given credit card number : \n",
      "('4210653310061055', 46.6, '20181205')\n",
      "('4210653310061055', 9.57, '20181228')\n",
      "('4210653310061055', 84.13, '20181210')\n"
     ]
    }
   ],
   "source": [
    "def monthly_bill():\n",
    "    \n",
    "    connection = get_database_connection()\n",
    "    cursor = connection.cursor()\n",
    "    \n",
    "        \n",
    "    creditcard = input(\"Enter the credit card no :    \" )\n",
    "    \n",
    "    year = input(\"Enter the year for transactions records(yyyy):  \")\n",
    "        \n",
    "    month = input(\"Enter the year,month for the transaction (mm): \").zfill(2)\n",
    "    \n",
    "    query = 'select cc.cust_cc_no, cc.transaction_value,cc.timeid from cdw_sapp_credit_card as cc\\\n",
    "    join cdw_sapp_customer as c on c.ssn = cc.cust_ssn \\\n",
    "    where cc.cust_cc_no = %s and (SUBSTRING(timeid, 1, 4)=%s and substring(timeid,5,2) = %s)'\n",
    "    \n",
    "\n",
    "\n",
    "    cursor.execute(query,(creditcard,year,month,))\n",
    "    records = cursor.fetchall()\n",
    "    print(\"\\n List of  customer transactions on a given credit card number : \")\n",
    "    for row in records:\n",
    "        print(row)\n",
    "    connection.close()\n",
    "monthly_bill()"
   ]
  },
  {
   "cell_type": "code",
   "execution_count": null,
   "id": "b3b3845f",
   "metadata": {},
   "outputs": [],
   "source": []
  },
  {
   "cell_type": "markdown",
   "id": "7c191fc2",
   "metadata": {},
   "source": [
    "\n",
    "# Functional Requirements 2.2\n",
    "4) Used to display the transactions made by a customer between two dates. Order by year, month, and day in descending order.\n"
   ]
  },
  {
   "cell_type": "code",
   "execution_count": null,
   "id": "102f48b4",
   "metadata": {},
   "outputs": [
    {
     "name": "stdout",
     "output_type": "stream",
     "text": [
      "Enter the  SSN :    ········\n"
     ]
    }
   ],
   "source": [
    "def monthly_bill_per_year():\n",
    "    \n",
    "    connection = get_database_connection()\n",
    "    cursor = connection.cursor()\n",
    "    \n",
    "        \n",
    "    ssn = getpass(\"Enter the  SSN :    \" )\n",
    "            \n",
    "    lastname = input('Enter the lastname:   ')\n",
    "    \n",
    "    start_date = input(\"Enter the start date for transactions recordsin the format YYYYMMDD:  \")\n",
    "    end_date = input(\"Enter the end date in the form (YYYYMMDD): \")\n",
    "            \n",
    "   \n",
    "\n",
    "    query = 'select cc.* from cdw_sapp_credit_card as cc\\\n",
    "    join cdw_sapp_customer as c on c.ssn = cc.cust_ssn \\\n",
    "    where cc.cust_ssn = %s and cc.timeid between  %s and %s \\\n",
    "    order by cc.timeid desc'\n",
    "\n",
    "\n",
    "    cursor.execute(query,(ssn,start_date,end_date,))\n",
    "    records = cursor.fetchall()\n",
    "    print(\"\\n List of  customer transactions on a given credit card number : \")\n",
    "    for row in records:\n",
    "        print(row)\n",
    "    connection.close()\n",
    "monthly_bill_per_year()"
   ]
  },
  {
   "cell_type": "code",
   "execution_count": null,
   "id": "8de5a9ec",
   "metadata": {},
   "outputs": [],
   "source": []
  },
  {
   "cell_type": "markdown",
   "id": "f2cbdebd",
   "metadata": {},
   "source": [
    "# Functional Requirements 3.1\n",
    "Find and plot transactions, showing which transaction type occurs most often\n",
    "\n"
   ]
  },
  {
   "cell_type": "code",
   "execution_count": null,
   "id": "398c91e5",
   "metadata": {},
   "outputs": [],
   "source": []
  },
  {
   "cell_type": "code",
   "execution_count": 13,
   "id": "31d369de",
   "metadata": {},
   "outputs": [],
   "source": [
    "\n",
    "\n",
    "\n"
   ]
  },
  {
   "cell_type": "code",
   "execution_count": null,
   "id": "b3b2fc4d",
   "metadata": {},
   "outputs": [],
   "source": []
  },
  {
   "cell_type": "code",
   "execution_count": null,
   "id": "ccbdc12a",
   "metadata": {},
   "outputs": [],
   "source": []
  }
 ],
 "metadata": {
  "kernelspec": {
   "display_name": "Python 3 (ipykernel)",
   "language": "python",
   "name": "python3"
  },
  "language_info": {
   "codemirror_mode": {
    "name": "ipython",
    "version": 3
   },
   "file_extension": ".py",
   "mimetype": "text/x-python",
   "name": "python",
   "nbconvert_exporter": "python",
   "pygments_lexer": "ipython3",
   "version": "3.9.12"
  }
 },
 "nbformat": 4,
 "nbformat_minor": 5
}
