{
 "cells": [
  {
   "cell_type": "code",
   "execution_count": 1,
   "id": "565edb95",
   "metadata": {},
   "outputs": [
    {
     "name": "stdout",
     "output_type": "stream",
     "text": [
      "Welcome to\n",
      "      ____              __\n",
      "     / __/__  ___ _____/ /__\n",
      "    _\\ \\/ _ \\/ _ `/ __/  '_/\n",
      "   /__ / .__/\\_,_/_/ /_/\\_\\   version 3.3.0\n",
      "      /_/\n",
      "\n",
      "Using Python version 3.9.12 (main, Apr  4 2022 05:22:27)\n",
      "Spark context Web UI available at http://LAPTOP-PSIMHJKQ:4043\n",
      "Spark context available as 'sc' (master = local[*], app id = local-1661364850251).\n",
      "SparkSession available as 'spark'.\n"
     ]
    }
   ],
   "source": [
    "\n",
    "import os\n",
    "import sys\n",
    "from pyspark import SparkContext\n",
    "from pyspark.sql import SparkSession\n",
    "from pyspark.sql.types import StructType,StructField,StringType,IntegerType,DateType,DecimalType,DoubleType,BooleanType,TimestampType\n",
    "from pyspark.shell import spark\n",
    "\n",
    "from pyspark.sql.functions import initcap, lower,col,year,month,dayofmonth,expr\n",
    "from pyspark.sql import functions as sf\n",
    "from pyspark.sql.functions import regexp_replace\n",
    "import datetime\n",
    "import pandas as pd\n",
    "import numpy as np\n",
    " \n",
    "\n",
    "#import org.apache.spark.sql.functions.format_number\n",
    "\n",
    "\n",
    "\n",
    "\n",
    "os.environ['PYSPARK_PYTHON'] = sys.executable\n",
    "os.environ['PYSPARK_DRIVER_PYTHON'] = sys.executable\n",
    "spark_app = SparkSession.builder.config(\"spark.driver.host\", \"localhost\").getOrCreate()\n",
    "\n",
    "\n",
    "\n",
    "\n",
    "\n",
    "\n",
    "\n",
    "\n",
    "\n",
    " \n",
    "\n",
    "\n"
   ]
  },
  {
   "cell_type": "markdown",
   "id": "1cab67e6",
   "metadata": {},
   "source": [
    "# Functional Requirement 1.1\n",
    "1. Functional Requirements - Load Credit Card Database - cdw_sapp_custmer (SQL)\n"
   ]
  },
  {
   "cell_type": "code",
   "execution_count": 2,
   "id": "cf7f0fb4",
   "metadata": {},
   "outputs": [],
   "source": [
    "# cdw_sapp_custmer details\n",
    "\n",
    "#df_cust = spark.read.schema(schema).json('C:/Users/asha_/dev/capstoneproj/Data/cdw_sapp_custmer.json')\n",
    "df_cust = spark.read.format('org.apache.spark.sql.json').load('C:/Users/asha_/dev/capstoneproj/Data/cdw_sapp_custmer.json')\n",
    "#df_cust.show(5)\n",
    "#df_cust.printSchema()\n",
    "\n",
    "\n",
    "\n",
    "\n"
   ]
  },
  {
   "cell_type": "code",
   "execution_count": 7,
   "id": "69c09394",
   "metadata": {},
   "outputs": [
    {
     "name": "stdout",
     "output_type": "stream",
     "text": [
      "root\n",
      " |-- CREDIT_CARD_NO: string (nullable = true)\n",
      " |-- CUST_CITY: string (nullable = true)\n",
      " |-- CUST_COUNTRY: string (nullable = true)\n",
      " |-- CUST_EMAIL: string (nullable = true)\n",
      " |-- CUST_PHONE: long (nullable = true)\n",
      " |-- CUST_STATE: string (nullable = true)\n",
      " |-- CUST_ZIP: string (nullable = true)\n",
      " |-- FIRST_NAME: string (nullable = true)\n",
      " |-- LAST_NAME: string (nullable = true)\n",
      " |-- LAST_UPDATED: string (nullable = true)\n",
      " |-- MIDDLE_NAME: string (nullable = true)\n",
      " |-- SSN: long (nullable = true)\n",
      " |-- FULL_STREET_ADDRESS: string (nullable = true)\n",
      "\n"
     ]
    }
   ],
   "source": [
    "#custmer table\n",
    "# column merged from street_name,apt no to full_street_address\n",
    "df_cust1 = df_cust.withColumn(\"FULL_STREET_ADDRESS\", expr(\" APT_NO ||','|| STREET_NAME\"))\n",
    "df_cust1 = df_cust1.drop('APT_NO')\n",
    "df_cust1 = df_cust1.drop('street_name')\n",
    "df_cust1.printSchema()\n",
    "\n",
    "\n"
   ]
  },
  {
   "cell_type": "code",
   "execution_count": 8,
   "id": "172be0d8",
   "metadata": {},
   "outputs": [
    {
     "name": "stdout",
     "output_type": "stream",
     "text": [
      "root\n",
      " |-- CREDIT_CARD_NO: string (nullable = true)\n",
      " |-- CUST_CITY: string (nullable = true)\n",
      " |-- CUST_COUNTRY: string (nullable = true)\n",
      " |-- CUST_EMAIL: string (nullable = true)\n",
      " |-- CUST_PHONE: string (nullable = true)\n",
      " |-- CUST_STATE: string (nullable = true)\n",
      " |-- CUST_ZIP: integer (nullable = true)\n",
      " |-- FIRST_NAME: string (nullable = true)\n",
      " |-- LAST_NAME: string (nullable = true)\n",
      " |-- LAST_UPDATED: string (nullable = true)\n",
      " |-- MIDDLE_NAME: string (nullable = true)\n",
      " |-- SSN: integer (nullable = true)\n",
      " |-- FULL_STREET_ADDRESS: string (nullable = true)\n",
      "\n"
     ]
    }
   ],
   "source": [
    "#changing datatype in custmer table\n",
    "df_cust1 = df_cust1.withColumn(\"CUST_PHONE\",col(\"CUST_PHONE\").cast(\"string\"))\n",
    "df_cust1 = df_cust1.withColumn(\"SSN\",col(\"SSN\").cast(\"int\"))\n",
    "df_cust1 = df_cust1.withColumn(\"CUST_ZIP\",col(\"CUST_ZIP\").cast(\"int\"))\n",
    "df_cust = df_cust1.withColumn(\"LAST_UPDATED\",col(\"LAST_UPDATED\").cast(\"timestamp\"))\n",
    "df_cust1.printSchema()"
   ]
  },
  {
   "cell_type": "code",
   "execution_count": 9,
   "id": "c5949ac3",
   "metadata": {},
   "outputs": [
    {
     "name": "stdout",
     "output_type": "stream",
     "text": [
      "+----------+---------+-----------+\n",
      "|first_name|last_name|middle_name|\n",
      "+----------+---------+-----------+\n",
      "|      Alec|   Hooper|         wm|\n",
      "|      Etta|   Holman|    brendan|\n",
      "|    Wilber|   Dunham|   ezequiel|\n",
      "|   Eugenio|    Hardy|      trina|\n",
      "|   Wilfred|    Ayers|        may|\n",
      "|      Beau|  Woodard|    ambrose|\n",
      "|    Sheila|     Kemp|      larry|\n",
      "|     Wendy|   Hurley|        ora|\n",
      "|      Alec|  Gilmore|     tracie|\n",
      "|    Barbra|      Lau|    mitchel|\n",
      "|   Edmundo|  Thomson|      denny|\n",
      "|      Elsa|   Truong|   isabelle|\n",
      "|     Homer| Mckinney|      henry|\n",
      "|      Rita|     Kidd|     rickey|\n",
      "|    Amalia|  Ballard|  heriberto|\n",
      "|     Patty|   Thomas|   angelita|\n",
      "|  Josefina|   Morrow|   dorothea|\n",
      "|    Nelson|  Andrews|  jefferson|\n",
      "|    Miquel|Schneider|     maximo|\n",
      "|    Parker|  Tidwell|    arnulfo|\n",
      "+----------+---------+-----------+\n",
      "only showing top 20 rows\n",
      "\n"
     ]
    }
   ],
   "source": [
    "# changing first_name,last_name and middle_name columns\n",
    "df_cust1 = df_cust1.withColumn('MIDDLE_NAME', sf.lower(sf.col('MIDDLE_NAME')))\n",
    "df_cust1 = df_cust1.withColumn('FIRST_NAME', sf.initcap(sf.col('FIRST_NAME')))\n",
    "df_cust1 = df_cust1.withColumn('LAST_NAME', sf.initcap(sf.col('LAST_NAME')))\n",
    "df_cust1.select('first_name','last_name','middle_name').show()\n"
   ]
  },
  {
   "cell_type": "code",
   "execution_count": 10,
   "id": "c3c109cb",
   "metadata": {},
   "outputs": [
    {
     "name": "stdout",
     "output_type": "stream",
     "text": [
      "+----------------+------------+-------------+-------------------+-------------+----------+--------+----------+---------+--------------------+-----------+---------+--------------------+\n",
      "|  CREDIT_CARD_NO|   CUST_CITY| CUST_COUNTRY|         CUST_EMAIL|   CUST_PHONE|CUST_STATE|CUST_ZIP|FIRST_NAME|LAST_NAME|        LAST_UPDATED|MIDDLE_NAME|      SSN| FULL_STREET_ADDRESS|\n",
      "+----------------+------------+-------------+-------------------+-------------+----------+--------+----------+---------+--------------------+-----------+---------+--------------------+\n",
      "|4210653310061055|     Natchez|United States|AHooper@example.com|(999)123-7818|        MS|   39120|      Alec|   Hooper|2018-04-21T12:49:...|         wm|123456100|656,Main Street N...|\n",
      "|4210653310102868|Wethersfield|United States|EHolman@example.com|(999)123-8933|        CT|    6109|      Etta|   Holman|2018-04-21T12:49:...|    brendan|123453023|   829,Redwood Drive|\n",
      "+----------------+------------+-------------+-------------------+-------------+----------+--------+----------+---------+--------------------+-----------+---------+--------------------+\n",
      "only showing top 2 rows\n",
      "\n"
     ]
    }
   ],
   "source": [
    "#changing ph no format\n",
    "df_cust1 = df_cust1.withColumn(\"CUST_PHONE\",regexp_replace('CUST_PHONE',r'(\\d{3})(\\d{4})',r'(999)$1-$2'))\n",
    "df_cust1.show(2)\n"
   ]
  },
  {
   "cell_type": "code",
   "execution_count": null,
   "id": "c4b1302f",
   "metadata": {},
   "outputs": [],
   "source": []
  },
  {
   "cell_type": "markdown",
   "id": "9868ae77",
   "metadata": {},
   "source": [
    "# Function Requirement 1.2\n",
    "\n",
    "Data loading into Database"
   ]
  },
  {
   "cell_type": "code",
   "execution_count": 11,
   "id": "81d5cd96",
   "metadata": {},
   "outputs": [],
   "source": [
    "df_cust1.write.format(\"jdbc\") \\\n",
    ".mode(\"append\") \\\n",
    ".option(\"url\", \"jdbc:mysql://localhost:3306/creditcard_capstone_\") \\\n",
    ".option(\"dbtable\", \"creditcard_capstone_.CDW_SAPP_CUSTOMER\") \\\n",
    ".option(\"user\", \"root\") \\\n",
    ".option(\"password\", \"a\") \\\n",
    ".save()"
   ]
  },
  {
   "cell_type": "code",
   "execution_count": null,
   "id": "f533b131",
   "metadata": {},
   "outputs": [],
   "source": []
  },
  {
   "cell_type": "code",
   "execution_count": null,
   "id": "a6e3b6f2",
   "metadata": {},
   "outputs": [],
   "source": []
  },
  {
   "cell_type": "code",
   "execution_count": null,
   "id": "b0267d00",
   "metadata": {},
   "outputs": [],
   "source": [
    "\n"
   ]
  },
  {
   "cell_type": "code",
   "execution_count": null,
   "id": "4d0bfaa2",
   "metadata": {},
   "outputs": [],
   "source": []
  }
 ],
 "metadata": {
  "kernelspec": {
   "display_name": "Python 3 (ipykernel)",
   "language": "python",
   "name": "python3"
  },
  "language_info": {
   "codemirror_mode": {
    "name": "ipython",
    "version": 3
   },
   "file_extension": ".py",
   "mimetype": "text/x-python",
   "name": "python",
   "nbconvert_exporter": "python",
   "pygments_lexer": "ipython3",
   "version": "3.9.12"
  }
 },
 "nbformat": 4,
 "nbformat_minor": 5
}
