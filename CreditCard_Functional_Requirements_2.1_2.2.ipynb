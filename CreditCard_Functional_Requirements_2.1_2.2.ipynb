{
 "cells": [
  {
   "cell_type": "markdown",
   "id": "3bd10e74",
   "metadata": {},
   "source": [
    "# 2. Functional Requirements - Application Front-End\n",
    "2.1 Transaction Details Module"
   ]
  },
  {
   "cell_type": "code",
   "execution_count": 1,
   "id": "bbc06628",
   "metadata": {},
   "outputs": [
    {
     "name": "stdout",
     "output_type": "stream",
     "text": [
      "Requirement already satisfied: python-dotenv in c:\\users\\asha_\\anaconda3\\lib\\site-packages (0.20.0)\n"
     ]
    }
   ],
   "source": [
    "import os\n",
    "!pip3 install python-dotenv\n",
    "from dotenv import load_dotenv\n",
    "import mysql.connector as mysql\n",
    "from mysql.connector import Error\n",
    "import numpy as np\n",
    "import pandas as pd\n",
    "from getpass import getpass\n",
    "\n",
    "\n",
    "\n"
   ]
  },
  {
   "cell_type": "code",
   "execution_count": 2,
   "id": "e637d264",
   "metadata": {},
   "outputs": [
    {
     "name": "stdout",
     "output_type": "stream",
     "text": [
      "+----------------+--------+---------+-----------+----------------+-----------------+--------------+\n",
      "|      CUST_CC_NO|  TIMEID| CUST_SSN|BRANCH_CODE|TRANSACTION_TYPE|TRANSACTION_VALUE|TRANSACTION_ID|\n",
      "+----------------+--------+---------+-----------+----------------+-----------------+--------------+\n",
      "|4210653312478046|20180813|123455692|        156|         Grocery|            91.08|         22562|\n",
      "+----------------+--------+---------+-----------+----------------+-----------------+--------------+\n",
      "only showing top 1 row\n",
      "\n"
     ]
    }
   ],
   "source": [
    "from pyspark.sql import SparkSession\n",
    "spark = SparkSession.builder.master(\"local[*]\").appName(\"Test SQL app\").getOrCreate()\n",
    "\n",
    "load_dotenv()\n",
    "DB_USERNAME = os.getenv('DB_USERNAME')\n",
    "DB_PASSWORD = os.getenv('DB_PASSWORD')\n",
    "\n",
    "\n",
    "\n",
    "\n",
    "df=spark.read.format(\"jdbc\").options(driver=\"com.mysql.cj.jdbc.Driver\",\\\n",
    "                                   user=DB_USERNAME,\\\n",
    "                                    password=DB_PASSWORD,\\\n",
    "                                    url=\"jdbc:mysql://localhost:3306/creditcard_capstone_\",\\\n",
    "                                    dbtable=\"creditcard_capstone_.cdw_sapp_credit_card\").load()\n",
    "df.show(1)\n"
   ]
  },
  {
   "cell_type": "markdown",
   "id": "151c8948",
   "metadata": {},
   "source": [
    "# Functional Requirements 2.1\n",
    "1) Used to display the transactions made by customers living in a given zip code for a given month and year.\n",
    "Order by day in descending order.\n"
   ]
  },
  {
   "cell_type": "code",
   "execution_count": 3,
   "id": "52556ce5",
   "metadata": {},
   "outputs": [],
   "source": [
    "def get_database_connection():\n",
    "    connection = mysql.connect(host='localhost',\n",
    "                                            database='creditcard_capstone_',\n",
    "                                            user='DB_USERNAME',\n",
    "                                            password='DB_PASSWORD')\n",
    "    if connection.is_connected():\n",
    "        db_Info = connection.get_server_info()\n",
    "    #cursor = connection.cursor()\n",
    "    return(connection)\n",
    "  "
   ]
  },
  {
   "cell_type": "code",
   "execution_count": 12,
   "id": "040e4b59",
   "metadata": {},
   "outputs": [
    {
     "name": "stdout",
     "output_type": "stream",
     "text": [
      "Enter Your Zip Code: (5 digits)  12345\n",
      "Enter the year for transactions records:  2020\n",
      "Enter the month in the form (XX): 12\n",
      "\n",
      " List of  customer transactions in a given Zip code : \n",
      "\n",
      "\n",
      " Customer no\t\tdate\t   cust_ssn  code  type       value  id\n"
     ]
    }
   ],
   "source": [
    "def total_cust():\n",
    "    \n",
    "    connection = get_database_connection()\n",
    "    cursor = connection.cursor()\n",
    "\n",
    "    zip_code = input(\"Enter Your Zip Code: (5 digits)  \")\n",
    "    \n",
    "    transaction_year = input(\"Enter the year for transactions records:  \")\n",
    "        \n",
    "    transaction_month = input(\"Enter the month in the form (XX): \").zfill(2)\n",
    "    \n",
    "\n",
    "    \n",
    "    query =\"SELECT CUST_CC_NO,date_format(TIMEID,'%Y-%m-%d') as transaction_date,CUST_SSN,BRANCH_CODE, \\\n",
    "    TRANSACTION_TYPE,TRANSACTION_VALUE,TRANSACTION_ID \\\n",
    "    FROM (SELECT ssn from cdw_sapp_customer where cust_zip = %s) as customer \\\n",
    "    join cdw_sapp_credit_card on cdw_sapp_credit_card.cust_ssn = customer.ssn\\\n",
    "    where SUBSTRING(timeid, 1, 4)  = %s and SUBSTRING(timeid, 5, 2)  = %s \\\n",
    "    Group by timeid desc;\"\n",
    "\n",
    "    cursor.execute(query,(zip_code,transaction_year,transaction_month,))\n",
    "    records = cursor.fetchall()\n",
    "    print(\"\\n List of  customer transactions in a given Zip code : \")\n",
    "    print(\"\\n\\n Customer no\\t\\tdate\\t   cust_ssn  code  type       value  id\")\n",
    "    for row in records:\n",
    "        print(row)\n",
    "    connection.close()\n",
    "total_cust()"
   ]
  },
  {
   "cell_type": "code",
   "execution_count": null,
   "id": "0329881a",
   "metadata": {},
   "outputs": [],
   "source": []
  },
  {
   "cell_type": "markdown",
   "id": "28b4f313",
   "metadata": {},
   "source": [
    "# Functional Requirements 2.1\n",
    "2)Used to display the number and total values of transactions for a given type.\n"
   ]
  },
  {
   "cell_type": "code",
   "execution_count": 5,
   "id": "2249f667",
   "metadata": {},
   "outputs": [
    {
     "name": "stdout",
     "output_type": "stream",
     "text": [
      "Enter The Type Of Transaction: ex: gas,healthcare:    healthcare\n",
      "\n",
      " Number of transactions and total value for transaction type healthcare : \n",
      "[(6723, 340476.19999999896)]\n"
     ]
    }
   ],
   "source": [
    "def trans_value():\n",
    "    transaction_type = input(\"Enter The Type Of Transaction: ex: gas,healthcare:    \")\n",
    "    flag = True\n",
    "    connection = get_database_connection()\n",
    "    cursor = connection.cursor()\n",
    "\n",
    "\n",
    "\n",
    "    query = \"SELECT count(*),sum(transaction_value) from cdw_sapp_credit_card where transaction_type = %s\"\n",
    "\n",
    "    cursor.execute(query,(transaction_type,))\n",
    "    records = cursor.fetchall()\n",
    "    print(\"\\n Number of transactions and total value for transaction type \" + transaction_type + \" : \")\n",
    "    print(records)\n",
    "    connection.close()\n",
    "    \n",
    "trans_value()\n"
   ]
  },
  {
   "cell_type": "code",
   "execution_count": null,
   "id": "9b6b1699",
   "metadata": {},
   "outputs": [],
   "source": []
  },
  {
   "cell_type": "markdown",
   "id": "79656b4b",
   "metadata": {},
   "source": [
    "# Functional Requirements 2.1\n",
    "3) Used to display the number and total values of transactions for branches in a given state.\n"
   ]
  },
  {
   "cell_type": "code",
   "execution_count": 6,
   "id": "e96435fd",
   "metadata": {},
   "outputs": [
    {
     "name": "stdout",
     "output_type": "stream",
     "text": [
      "Enter the state in XX format :    MA\n",
      "(463, 23792.889999999992)\n",
      "(393, 19338.289999999997)\n"
     ]
    }
   ],
   "source": [
    "def trans_value_branch():\n",
    "    \n",
    "    connection = get_database_connection()\n",
    "    cursor = connection.cursor()\n",
    "    \n",
    "    #flag = True\n",
    "\n",
    "\n",
    "    #query = \"select distinct(branch_state) from cdw_sapp_branch\"\n",
    "    \n",
    "    #cursor.execute(query,)\n",
    "    #records = cursor.fetchall()\n",
    "    \n",
    "\n",
    "    \n",
    "    branch_state = input(\"Enter the state in XX format :    \")\n",
    "    \n",
    "    query=\"select count(transaction_type) , sum(transaction_value) from cdw_sapp_credit_card \\\n",
    "                   join cdw_sapp_branch on cdw_sapp_branch.branch_code = cdw_sapp_credit_card.BRANCH_CODE \\\n",
    "                   where cdw_sapp_branch.branch_state = %s \\\n",
    "                   group by cdw_sapp_branch.branch_code;\"\n",
    "    cursor.execute(query,(branch_state,))\n",
    "    records = cursor.fetchall()\n",
    "    for row in records:\n",
    "        print(row)\n",
    "        \n",
    "trans_value_branch()"
   ]
  },
  {
   "cell_type": "code",
   "execution_count": null,
   "id": "e63d5b16",
   "metadata": {},
   "outputs": [],
   "source": []
  },
  {
   "cell_type": "markdown",
   "id": "a528da61",
   "metadata": {},
   "source": [
    "# Functional Requirements 2.2\n",
    "2.2 Customer Details Module\n",
    "1) Used to check the existing account details of a customer."
   ]
  },
  {
   "cell_type": "code",
   "execution_count": 7,
   "id": "b484d6fd",
   "metadata": {},
   "outputs": [
    {
     "name": "stdout",
     "output_type": "stream",
     "text": [
      "Enter the last 4 digits of SSN :    ········\n",
      "Enter the lastname:   Hooper\n",
      "[('4210653310061055', 'Dallas', 'United States', 'work@example.com', '(123)345-7869', 'TX', 75643, 'Alec', 'Hooper', '2018-04-21T12:49:02.000-04:00', 'wm', 123456100, '345,Charles Street')]\n"
     ]
    }
   ],
   "source": [
    "def cust_details():\n",
    "    \n",
    "    connection = get_database_connection()\n",
    "    cursor = connection.cursor()\n",
    "    \n",
    "    flag = True\n",
    "        \n",
    "    ssn = getpass(\"Enter the last 4 digits of SSN :    \" )\n",
    "            \n",
    "    lastname = input('Enter the lastname:   ')\n",
    "    query=\"select * from cdw_sapp_customer where substr(ssn,6,4) = %s and Last_name = %s\"\n",
    "    \n",
    "    cursor.execute(query,(ssn,lastname,))\n",
    "    \n",
    "    records = cursor.fetchall()\n",
    "    \n",
    "    print(records)\n",
    "    cursor.close()    \n",
    "    \n",
    "cust_details()"
   ]
  },
  {
   "cell_type": "code",
   "execution_count": null,
   "id": "7d3e2df3",
   "metadata": {},
   "outputs": [],
   "source": []
  },
  {
   "cell_type": "markdown",
   "id": "1c534541",
   "metadata": {},
   "source": [
    "# Functional Requirements 2.2\n",
    "2) Used to modify the existing account details of a customer."
   ]
  },
  {
   "cell_type": "code",
   "execution_count": 9,
   "id": "e44bd9a8",
   "metadata": {},
   "outputs": [
    {
     "name": "stdout",
     "output_type": "stream",
     "text": [
      "Enter the ssn :    123454487\n",
      "Enter the city to modify: format:dallas  chicago\n",
      "Enter country to Modify:United States\n",
      "Enter email to modify:format:aaaa@example.com   wDunham@example.com\n",
      "Enter state to modify:(format:TX)  IL\n",
      "Enter ph no to modify: (999)767-2345   (999)124-3018\n",
      "Enter zip to modify: format: 5 digits:99999  60142\n",
      "Enter the full street address: 215,main street 683,12th street East\n",
      "one record updated\n"
     ]
    }
   ],
   "source": [
    "def modify_customer_details():\n",
    "    \n",
    "    \n",
    "    connection = get_database_connection()\n",
    "    cursor = connection.cursor()\n",
    "    \n",
    "        \n",
    "    ssn = input(\"Enter the ssn :    \" )\n",
    "            \n",
    "    city = input('Enter the city to modify: format:dallas  ')\n",
    "    country = input('Enter country to Modify:')\n",
    "    Email = input(\"Enter email to modify:format:aaaa@example.com   \")\n",
    "    state = input(\"Enter state to modify:(format:TX)  \")\n",
    "    phone = input(\"Enter ph no to modify: (999)767-2345   \")\n",
    "    zip = input (\"Enter zip to modify: format: 5 digits:99999  \")\n",
    "    fulladdress= input(\"Enter the full street address: 215,main street \")\n",
    "    \n",
    "   \n",
    "        \n",
    "    \n",
    "    query= \"UPDATE cdw_sapp_customer SET cust_city = %s,cust_country = %s,cust_email = %s, cust_state = %s, cust_phone = %s,\\\n",
    "    cust_zip = %s,full_street_address= %s where ssn = %s\"\n",
    "    \n",
    "    \n",
    "    cursor.execute(query,(city,country,Email,state,phone,zip,fulladdress,ssn,))\n",
    "    records = cursor.fetchall()\n",
    "    \n",
    "    \n",
    "    for row in records:\n",
    "        print(row)\n",
    "    connection.commit()\n",
    "    print(\"one record updated\")\n",
    "    \n",
    "    \n",
    "    cursor.close()     \n",
    "modify_customer_details()   "
   ]
  },
  {
   "cell_type": "code",
   "execution_count": null,
   "id": "d2c8a99a",
   "metadata": {},
   "outputs": [],
   "source": []
  },
  {
   "cell_type": "code",
   "execution_count": null,
   "id": "7cdd961d",
   "metadata": {},
   "outputs": [],
   "source": []
  },
  {
   "cell_type": "markdown",
   "id": "c88e629e",
   "metadata": {},
   "source": [
    "\n",
    "# Functional Requirements 2.2\n",
    "3) Used to generate a monthly bill for a credit card number for a given month and year.\n"
   ]
  },
  {
   "cell_type": "code",
   "execution_count": 27,
   "id": "d85150f3",
   "metadata": {},
   "outputs": [
    {
     "name": "stdout",
     "output_type": "stream",
     "text": [
      "Enter the credit card no :    4210653310061055\n",
      "Enter the year for transactions records(yyyy):  2018\n",
      "Enter the year,month for the transaction (mm): 12\n",
      "\n",
      " List of  customer transactions on a given credit card number : \n",
      "('4210653310061055', 46.6, '20181205')\n",
      "('4210653310061055', 9.57, '20181228')\n",
      "('4210653310061055', 84.13, '20181210')\n"
     ]
    }
   ],
   "source": [
    "def monthly_bill():\n",
    "    \n",
    "    connection = get_database_connection()\n",
    "    cursor = connection.cursor()\n",
    "    \n",
    "        \n",
    "    creditcard = input(\"Enter the credit card no :    \" )\n",
    "    \n",
    "    year = input(\"Enter the year for transactions records(yyyy):  \")\n",
    "        \n",
    "    month = input(\"Enter the year,month for the transaction (mm): \").zfill(2)\n",
    "    \n",
    "    query = 'select cc.cust_cc_no, cc.transaction_value,cc.timeid from cdw_sapp_credit_card as cc\\\n",
    "    join cdw_sapp_customer as c on c.ssn = cc.cust_ssn \\\n",
    "    where cc.cust_cc_no = %s and (SUBSTRING(timeid, 1, 4)=%s and substring(timeid,5,2) = %s)'\n",
    "    \n",
    "\n",
    "\n",
    "    cursor.execute(query,(creditcard,year,month,))\n",
    "    records = cursor.fetchall()\n",
    "    print(\"\\n List of  customer transactions on a given credit card number : \")\n",
    "    for row in records:\n",
    "        print(row)\n",
    "    connection.close()\n",
    "monthly_bill()"
   ]
  },
  {
   "cell_type": "code",
   "execution_count": null,
   "id": "b3b3845f",
   "metadata": {},
   "outputs": [],
   "source": []
  },
  {
   "cell_type": "markdown",
   "id": "7c191fc2",
   "metadata": {},
   "source": [
    "\n",
    "# Functional Requirements 2.2\n",
    "4) Used to display the transactions made by a customer between two dates. Order by year, month, and day in descending order.\n"
   ]
  },
  {
   "cell_type": "code",
   "execution_count": 29,
   "id": "102f48b4",
   "metadata": {},
   "outputs": [
    {
     "name": "stdout",
     "output_type": "stream",
     "text": [
      "Enter the  SSN :    123456100\n",
      "Enter the lastname:   Hooper\n",
      "Enter the start date for transactions recordsin the format YYYYMMDD:  20181205\n",
      "Enter the end date in the form (YYYYMMDD): 20181228\n",
      "\n",
      " List of  customer transactions on a given credit card number : \n",
      "('4210653310061055', '20181228', 123456100, 74, 'Bills', 9.57, 20555)\n",
      "('4210653310061055', '20181210', 123456100, 8, 'Entertainment', 84.13, 20558)\n",
      "('4210653310061055', '20181205', 123456100, 59, 'Entertainment', 46.6, 20528)\n"
     ]
    }
   ],
   "source": [
    "def monthly_bill_per_year():\n",
    "    \n",
    "    connection = get_database_connection()\n",
    "    cursor = connection.cursor()\n",
    "    \n",
    "        \n",
    "    ssn = input(\"Enter the  SSN :    \" )\n",
    "            \n",
    "    lastname = input('Enter the lastname:   ')\n",
    "    \n",
    "    start_date = input(\"Enter the start date for transactions recordsin the format YYYYMMDD:  \")\n",
    "    end_date = input(\"Enter the end date in the form (YYYYMMDD): \")\n",
    "            \n",
    "   \n",
    "\n",
    "    query = 'select cc.* from cdw_sapp_credit_card as cc\\\n",
    "    join cdw_sapp_customer as c on c.ssn = cc.cust_ssn \\\n",
    "    where cc.cust_ssn = %s and cc.timeid between  %s and %s \\\n",
    "    order by cc.timeid desc'\n",
    "\n",
    "\n",
    "    cursor.execute(query,(ssn,start_date,end_date,))\n",
    "    records = cursor.fetchall()\n",
    "    print(\"\\n List of  customer transactions on a given credit card number : \")\n",
    "    for row in records:\n",
    "        print(row)\n",
    "    connection.close()\n",
    "monthly_bill_per_year()"
   ]
  },
  {
   "cell_type": "code",
   "execution_count": null,
   "id": "8de5a9ec",
   "metadata": {},
   "outputs": [],
   "source": []
  },
  {
   "cell_type": "code",
   "execution_count": null,
   "id": "ba33b493",
   "metadata": {},
   "outputs": [],
   "source": []
  },
  {
   "cell_type": "code",
   "execution_count": null,
   "id": "d954ac92",
   "metadata": {},
   "outputs": [],
   "source": []
  }
 ],
 "metadata": {
  "kernelspec": {
   "display_name": "Python 3 (ipykernel)",
   "language": "python",
   "name": "python3"
  },
  "language_info": {
   "codemirror_mode": {
    "name": "ipython",
    "version": 3
   },
   "file_extension": ".py",
   "mimetype": "text/x-python",
   "name": "python",
   "nbconvert_exporter": "python",
   "pygments_lexer": "ipython3",
   "version": "3.9.12"
  },
  "vscode": {
   "interpreter": {
    "hash": "14620a025ea822f1f96f7b87d7b9ffd39338079208d915e74357e727d78a5058"
   }
  }
 },
 "nbformat": 4,
 "nbformat_minor": 5
}
